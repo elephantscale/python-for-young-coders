{
 "cells": [
  {
   "cell_type": "markdown",
   "metadata": {},
   "source": [
    "# Python for Young Coders\n",
    "\n",
    "Learn conditions"
   ]
  },
  {
   "cell_type": "markdown",
   "metadata": {},
   "source": [
    "## Conditions\n",
    "Python can do different things based on conditions"
   ]
  },
  {
   "cell_type": "code",
   "execution_count": null,
   "metadata": {},
   "outputs": [],
   "source": [
    "print (\"how old are you? \")\n",
    "age = int(input())\n",
    "print ('your age is:', age)"
   ]
  },
  {
   "cell_type": "code",
   "execution_count": null,
   "metadata": {},
   "outputs": [],
   "source": [
    "# Notice the 4 space indentation for conditions\n",
    "# >= means 'greater or equal'\n",
    "if age > 10:\n",
    "    print (\"you are older than 10 !\")\n",
    "    print ('yay')\n",
    "else:\n",
    "    print (\"you are younger than 10\")\n",
    "    print ('hahaha')"
   ]
  },
  {
   "cell_type": "markdown",
   "metadata": {},
   "source": [
    "## Multiple Conditions"
   ]
  },
  {
   "cell_type": "code",
   "execution_count": null,
   "metadata": {},
   "outputs": [],
   "source": [
    "print(\"what is the weather today? \")\n",
    "weather=input()\n",
    "\n",
    "## Notice two equal signs (==) for comparison \n",
    "if weather == 'rainy':\n",
    "    print(\"take an umbrella\")\n",
    "\n",
    "if weather == 'cold':\n",
    "    print('wear a jacket')\n"
   ]
  },
  {
   "cell_type": "code",
   "execution_count": null,
   "metadata": {},
   "outputs": [],
   "source": [
    "print(\"what is the weather today? \")\n",
    "weather=input()\n",
    "\n",
    "if weather == 'rainy':\n",
    "    print(\"take an umbrella\")\n",
    "elif weather == 'cold':\n",
    "    print(\"wear a jacket\")\n",
    "elif weather == 'sunny':\n",
    "    print('wear a hat')\n",
    "else:\n",
    "    print('no idea')"
   ]
  },
  {
   "cell_type": "code",
   "execution_count": null,
   "metadata": {},
   "outputs": [],
   "source": []
  }
 ],
 "metadata": {
  "kernelspec": {
   "display_name": "Python 3",
   "language": "python",
   "name": "python3"
  },
  "language_info": {
   "codemirror_mode": {
    "name": "ipython",
    "version": 3
   },
   "file_extension": ".py",
   "mimetype": "text/x-python",
   "name": "python",
   "nbconvert_exporter": "python",
   "pygments_lexer": "ipython3",
   "version": "3.7.6"
  }
 },
 "nbformat": 4,
 "nbformat_minor": 4
}
