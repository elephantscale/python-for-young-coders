{
 "cells": [
  {
   "cell_type": "markdown",
   "metadata": {},
   "source": [
    "# Python for Young Coders\n",
    "\n",
    "Learn conditions"
   ]
  },
  {
   "cell_type": "markdown",
   "metadata": {},
   "source": [
    "## Conditions\n",
    "Python can do different things based on conditions"
   ]
  },
  {
   "cell_type": "code",
   "execution_count": 4,
   "metadata": {},
   "outputs": [
    {
     "name": "stdout",
     "output_type": "stream",
     "text": [
      "how old are you? \n"
     ]
    },
    {
     "name": "stdin",
     "output_type": "stream",
     "text": [
      " 4\n"
     ]
    },
    {
     "name": "stdout",
     "output_type": "stream",
     "text": [
      "4\n"
     ]
    }
   ],
   "source": [
    "print (\"how old are you? \")\n",
    "age = int(input())\n",
    "print (age)\n",
    "\n"
   ]
  },
  {
   "cell_type": "code",
   "execution_count": 5,
   "metadata": {},
   "outputs": [
    {
     "name": "stdout",
     "output_type": "stream",
     "text": [
      "you younger than 10\n"
     ]
    }
   ],
   "source": [
    "if age > 10:\n",
    "    print (\"you are older than 10 !\")\n",
    "else:\n",
    "    print (\"you younger than 10\")"
   ]
  },
  {
   "cell_type": "markdown",
   "metadata": {},
   "source": [
    "## Multiple Conditions"
   ]
  },
  {
   "cell_type": "code",
   "execution_count": 9,
   "metadata": {},
   "outputs": [
    {
     "name": "stdout",
     "output_type": "stream",
     "text": [
      "what is the weather today? \n"
     ]
    },
    {
     "name": "stdin",
     "output_type": "stream",
     "text": [
      " aaa\n"
     ]
    }
   ],
   "source": [
    "print(\"what is the weather today? \")\n",
    "weather=input()\n",
    "\n",
    "if weather == 'rainy':\n",
    "    print(\"take an umbrella\")\n",
    "\n",
    "if weather == 'cold':\n",
    "    print('wear a jacket')\n"
   ]
  },
  {
   "cell_type": "code",
   "execution_count": 11,
   "metadata": {},
   "outputs": [
    {
     "name": "stdout",
     "output_type": "stream",
     "text": [
      "what is the weather today? \n"
     ]
    },
    {
     "name": "stdin",
     "output_type": "stream",
     "text": [
      " sunny\n"
     ]
    },
    {
     "name": "stdout",
     "output_type": "stream",
     "text": [
      "wear a hat\n"
     ]
    }
   ],
   "source": [
    "print(\"what is the weather today? \")\n",
    "weather=input()\n",
    "\n",
    "if weather == 'rainy':\n",
    "    print(\"take an umbrella\")\n",
    "elif weather == 'cold':\n",
    "    print(\"wear a jacket\")\n",
    "elif weather == 'sunny':\n",
    "    print('wear a hat')\n",
    "else:\n",
    "    print('no idea')"
   ]
  },
  {
   "cell_type": "code",
   "execution_count": null,
   "metadata": {},
   "outputs": [],
   "source": []
  }
 ],
 "metadata": {
  "kernelspec": {
   "display_name": "Python 3",
   "language": "python",
   "name": "python3"
  },
  "language_info": {
   "codemirror_mode": {
    "name": "ipython",
    "version": 3
   },
   "file_extension": ".py",
   "mimetype": "text/x-python",
   "name": "python",
   "nbconvert_exporter": "python",
   "pygments_lexer": "ipython3",
   "version": "3.7.6"
  }
 },
 "nbformat": 4,
 "nbformat_minor": 4
}
