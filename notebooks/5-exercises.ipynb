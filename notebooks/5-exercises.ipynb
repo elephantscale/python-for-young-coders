{
 "cells": [
  {
   "cell_type": "markdown",
   "metadata": {},
   "source": [
    "# Exercises (Python for Young Coders)"
   ]
  },
  {
   "cell_type": "markdown",
   "metadata": {},
   "source": [
    "## Number Guessing Game"
   ]
  },
  {
   "cell_type": "code",
   "execution_count": null,
   "metadata": {},
   "outputs": [],
   "source": [
    "import random\n",
    "\n",
    "number = random.randint(1,10)\n",
    "# print(number)\n",
    "while True:\n",
    "    print('enter your guess:')\n",
    "    guess = int (input())\n",
    "    \n",
    "    if guess < number:\n",
    "        print(\"go higher\")\n",
    "    elif guess > number:\n",
    "        print ('go lower')\n",
    "    else:\n",
    "        print (\"you guessed correctly! \", number)\n",
    "        break"
   ]
  },
  {
   "cell_type": "markdown",
   "metadata": {},
   "source": [
    "## Rock / Paper / Scissors "
   ]
  },
  {
   "cell_type": "code",
   "execution_count": 33,
   "metadata": {},
   "outputs": [
    {
     "name": "stdout",
     "output_type": "stream",
     "text": [
      "computer guess:  scissors\n",
      "enter your guess: ['rock', 'paper', 'scissors']\n"
     ]
    },
    {
     "name": "stdin",
     "output_type": "stream",
     "text": [
      " a\n"
     ]
    },
    {
     "name": "stdout",
     "output_type": "stream",
     "text": [
      "invalid guess: a\n"
     ]
    }
   ],
   "source": [
    "options = ['rock', 'paper', 'scissors']\n",
    "\n",
    "import random\n",
    "\n",
    "\n",
    "computer_guess = random.choice(options)\n",
    "\n",
    "## the following is a debug print\n",
    "print ('computer guess: ', computer_guess)\n",
    "\n",
    "print ('enter your guess:' , options)\n",
    "\n",
    "my_guess = input()\n",
    "\n",
    "if my_guess == computer_guess:\n",
    "    print('Tie')  \n",
    "elif my_guess == 'rock':\n",
    "    if computer_guess == 'paper':\n",
    "        print('computer wins! paper covers  rock')\n",
    "    else:\n",
    "        print(\"you win!  rock smashes scissors\")\n",
    "elif my_guess == 'paper':\n",
    "    if computer_guess == '???':\n",
    "        print('computer wins!  scissors cut paper')\n",
    "    else:\n",
    "        print('you win. paper covers rock ')\n",
    "elif my_guess == 'scissors':\n",
    "    if computer_guess == '???':\n",
    "        print ('???')\n",
    "    else:\n",
    "        print ('???')\n",
    "else:\n",
    "    print ('invalid guess:', my_guess)"
   ]
  },
  {
   "cell_type": "code",
   "execution_count": null,
   "metadata": {},
   "outputs": [],
   "source": []
  }
 ],
 "metadata": {
  "kernelspec": {
   "display_name": "Python 3",
   "language": "python",
   "name": "python3"
  },
  "language_info": {
   "codemirror_mode": {
    "name": "ipython",
    "version": 3
   },
   "file_extension": ".py",
   "mimetype": "text/x-python",
   "name": "python",
   "nbconvert_exporter": "python",
   "pygments_lexer": "ipython3",
   "version": "3.7.6"
  }
 },
 "nbformat": 4,
 "nbformat_minor": 4
}
